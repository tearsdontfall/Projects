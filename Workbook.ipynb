{
 "cells": [
  {
   "cell_type": "code",
   "execution_count": 1,
   "id": "ff7ffd1f-d195-412f-b611-9cbab490a9a9",
   "metadata": {},
   "outputs": [],
   "source": [
    "import pandas as pd\n",
    "import numpy as np\n",
    "import seaborn as sns\n",
    "from scipy.stats import chisquare, chi2_contingency, wilcoxon, fisher_exact, kruskal, friedmanchisquare\n",
    "import math"
   ]
  },
  {
   "cell_type": "code",
   "execution_count": 14,
   "id": "aa4581e0-5051-4957-be8a-8240f4d54d58",
   "metadata": {},
   "outputs": [],
   "source": [
    "#df = pd.read_csv('customer_stats.csv')"
   ]
  },
  {
   "cell_type": "code",
   "execution_count": 3,
   "id": "9420355f-2e8d-4217-868b-fbf259a7acde",
   "metadata": {},
   "outputs": [],
   "source": [
    "a = [18,55,27]\n",
    "b = [25,50,25]"
   ]
  },
  {
   "cell_type": "code",
   "execution_count": 4,
   "id": "b0a9c2b5-cc2c-4697-af75-a4dd60ca292e",
   "metadata": {},
   "outputs": [
    {
     "data": {
      "text/plain": [
       "Power_divergenceResult(statistic=np.float64(2.62), pvalue=np.float64(0.26982005638468687))"
      ]
     },
     "execution_count": 4,
     "metadata": {},
     "output_type": "execute_result"
    }
   ],
   "source": [
    "chisquare(a,b)"
   ]
  },
  {
   "cell_type": "code",
   "execution_count": 20,
   "id": "2c7769a6-c6b5-4ec7-8cf8-e3d1cbae46fd",
   "metadata": {},
   "outputs": [],
   "source": [
    "o = [15,9]\n",
    "e = [11,6]"
   ]
  },
  {
   "cell_type": "code",
   "execution_count": 46,
   "id": "ad815459-9ab9-48eb-aaa6-9d7d56c1b3d9",
   "metadata": {},
   "outputs": [
    {
     "data": {
      "text/html": [
       "<div>\n",
       "<style scoped>\n",
       "    .dataframe tbody tr th:only-of-type {\n",
       "        vertical-align: middle;\n",
       "    }\n",
       "\n",
       "    .dataframe tbody tr th {\n",
       "        vertical-align: top;\n",
       "    }\n",
       "\n",
       "    .dataframe thead th {\n",
       "        text-align: right;\n",
       "    }\n",
       "</style>\n",
       "<table border=\"1\" class=\"dataframe\">\n",
       "  <thead>\n",
       "    <tr style=\"text-align: right;\">\n",
       "      <th></th>\n",
       "      <th>Поправился</th>\n",
       "      <th>Не поправился</th>\n",
       "    </tr>\n",
       "  </thead>\n",
       "  <tbody>\n",
       "    <tr>\n",
       "      <th>Лекарство 1</th>\n",
       "      <td>3</td>\n",
       "      <td>1</td>\n",
       "    </tr>\n",
       "    <tr>\n",
       "      <th>Лекарство 2</th>\n",
       "      <td>1</td>\n",
       "      <td>3</td>\n",
       "    </tr>\n",
       "  </tbody>\n",
       "</table>\n",
       "</div>"
      ],
      "text/plain": [
       "             Поправился  Не поправился\n",
       "Лекарство 1           3              1\n",
       "Лекарство 2           1              3"
      ]
     },
     "execution_count": 46,
     "metadata": {},
     "output_type": "execute_result"
    }
   ],
   "source": [
    "df = pd.DataFrame(data={'Поправился':[3,1],'Не поправился':[1,3]},index=['Лекарство 1','Лекарство 2'])\n",
    "df"
   ]
  },
  {
   "cell_type": "code",
   "execution_count": 38,
   "id": "0b710137-fb60-4c94-b897-f5c0558d0f1d",
   "metadata": {},
   "outputs": [
    {
     "data": {
      "text/plain": [
       "Chi2ContingencyResult(statistic=np.float64(5.57719298245614), pvalue=np.float64(0.018195864430772923), dof=1, expected_freq=array([[13.63636364, 11.36363636],\n",
       "       [10.36363636,  8.63636364]]))"
      ]
     },
     "execution_count": 38,
     "metadata": {},
     "output_type": "execute_result"
    }
   ],
   "source": [
    "chi2_contingency(df, correction=True)"
   ]
  },
  {
   "cell_type": "code",
   "execution_count": 45,
   "id": "ef362d89-13c8-4bf0-ab72-a9f6f246b743",
   "metadata": {},
   "outputs": [],
   "source": [
    "#from statsmodels.graphics.mosaicplot import mosaic\n",
    "#import matplotlib.pyplot as plt\n",
    "#mosaic(df, ['Есть тромбоз','Нет тромбоза'], gap=0.01)\n",
    "#plt.show()"
   ]
  },
  {
   "cell_type": "code",
   "execution_count": 137,
   "id": "868fff0d-3ffa-4d15-94c5-e0f6f26dc3e2",
   "metadata": {},
   "outputs": [
    {
     "data": {
      "text/html": [
       "<div>\n",
       "<style scoped>\n",
       "    .dataframe tbody tr th:only-of-type {\n",
       "        vertical-align: middle;\n",
       "    }\n",
       "\n",
       "    .dataframe tbody tr th {\n",
       "        vertical-align: top;\n",
       "    }\n",
       "\n",
       "    .dataframe thead th {\n",
       "        text-align: right;\n",
       "    }\n",
       "</style>\n",
       "<table border=\"1\" class=\"dataframe\">\n",
       "  <thead>\n",
       "    <tr style=\"text-align: right;\">\n",
       "      <th></th>\n",
       "      <th>before</th>\n",
       "      <th>after</th>\n",
       "    </tr>\n",
       "  </thead>\n",
       "  <tbody>\n",
       "    <tr>\n",
       "      <th>Converted</th>\n",
       "      <td>123</td>\n",
       "      <td>181</td>\n",
       "    </tr>\n",
       "    <tr>\n",
       "      <th>Not converted</th>\n",
       "      <td>3233</td>\n",
       "      <td>3743</td>\n",
       "    </tr>\n",
       "  </tbody>\n",
       "</table>\n",
       "</div>"
      ],
      "text/plain": [
       "               before  after\n",
       "Converted         123    181\n",
       "Not converted    3233   3743"
      ]
     },
     "execution_count": 137,
     "metadata": {},
     "output_type": "execute_result"
    }
   ],
   "source": [
    "df = pd.DataFrame(index = ['Converted', 'Not converted'], data={'before':[123,3233],'after':[181,3743]})\n",
    "df"
   ]
  },
  {
   "cell_type": "code",
   "execution_count": 138,
   "id": "45dd02c7-5f6c-494e-9f2a-b7ee851fc352",
   "metadata": {},
   "outputs": [
    {
     "data": {
      "text/plain": [
       "Chi2ContingencyResult(statistic=np.float64(3.82564080970775), pvalue=np.float64(0.050474043909584584), dof=1, expected_freq=array([[ 140.14065934,  163.85934066],\n",
       "       [3215.85934066, 3760.14065934]]))"
      ]
     },
     "execution_count": 138,
     "metadata": {},
     "output_type": "execute_result"
    }
   ],
   "source": [
    "chi2_contingency(df)"
   ]
  },
  {
   "cell_type": "code",
   "execution_count": 104,
   "id": "803a52ff-ebb1-4f93-85ee-194afa1f0bb1",
   "metadata": {},
   "outputs": [
    {
     "data": {
      "text/plain": [
       "(np.float64(92.0), np.float64(95.4))"
      ]
     },
     "execution_count": 104,
     "metadata": {},
     "output_type": "execute_result"
    }
   ],
   "source": [
    "df.sales_before.mean(), df.sales_after.mean()"
   ]
  },
  {
   "cell_type": "code",
   "execution_count": 142,
   "id": "8e9fbe0f-d06b-4893-a834-595a7d880485",
   "metadata": {},
   "outputs": [
    {
     "data": {
      "text/plain": [
       "0.42857142857142855"
      ]
     },
     "execution_count": 142,
     "metadata": {},
     "output_type": "execute_result"
    }
   ],
   "source": [
    "30/70"
   ]
  },
  {
   "cell_type": "code",
   "execution_count": 11,
   "id": "23a62885-22d1-41fd-9028-753e4f005606",
   "metadata": {},
   "outputs": [
    {
     "data": {
      "text/plain": [
       "15.076739199873062"
      ]
     },
     "execution_count": 11,
     "metadata": {},
     "output_type": "execute_result"
    }
   ],
   "source": [
    "(1-(1/(math.exp(-0.84)+1)))*50"
   ]
  },
  {
   "cell_type": "code",
   "execution_count": 3,
   "id": "785bb635-4c7c-40c6-a707-0f6cc3a73cfe",
   "metadata": {},
   "outputs": [
    {
     "data": {
      "text/plain": [
       "np.float64(-1.3535045382968995)"
      ]
     },
     "execution_count": 3,
     "metadata": {},
     "output_type": "execute_result"
    }
   ],
   "source": [
    "np.log(93/360)"
   ]
  },
  {
   "cell_type": "code",
   "execution_count": 9,
   "id": "db9312d6-1008-451e-864b-8963e2f7a254",
   "metadata": {},
   "outputs": [
    {
     "data": {
      "text/plain": [
       "1.0401409117501046"
      ]
     },
     "execution_count": 9,
     "metadata": {},
     "output_type": "execute_result"
    }
   ],
   "source": [
    "1/(math.exp(-1.35)+1)+1/(math.exp(1.12)+1)"
   ]
  },
  {
   "cell_type": "code",
   "execution_count": 10,
   "id": "67c053e4-7657-407c-98eb-a8bc688465af",
   "metadata": {},
   "outputs": [
    {
     "data": {
      "text/plain": [
       "0.2460112835510519"
      ]
     },
     "execution_count": 10,
     "metadata": {},
     "output_type": "execute_result"
    }
   ],
   "source": [
    "1/(math.exp(1.12)+1)"
   ]
  },
  {
   "cell_type": "code",
   "execution_count": 15,
   "id": "b784feb6-1d9d-4eff-8f6f-eb97a444ab51",
   "metadata": {},
   "outputs": [
    {
     "data": {
      "text/plain": [
       "3.324094463938894"
      ]
     },
     "execution_count": 15,
     "metadata": {},
     "output_type": "execute_result"
    }
   ],
   "source": [
    "math.exp(1.12)+math.exp(-1.35)"
   ]
  },
  {
   "cell_type": "code",
   "execution_count": 17,
   "id": "c4dea4c0-8e63-4b23-934b-c8ed1ef82453",
   "metadata": {},
   "outputs": [
    {
     "data": {
      "text/plain": [
       "11.91532258064516"
      ]
     },
     "execution_count": 17,
     "metadata": {},
     "output_type": "execute_result"
    }
   ],
   "source": [
    "(197/64)/(93/360)"
   ]
  },
  {
   "cell_type": "code",
   "execution_count": 20,
   "id": "87c5b6f9-1242-4dd5-9bb9-423e62d1515e",
   "metadata": {},
   "outputs": [
    {
     "data": {
      "text/plain": [
       "1.7160068621848585"
      ]
     },
     "execution_count": 20,
     "metadata": {},
     "output_type": "execute_result"
    }
   ],
   "source": [
    "math.exp(0.54)"
   ]
  },
  {
   "cell_type": "code",
   "execution_count": 12,
   "id": "9f73112d-8537-4ece-91a9-4e7d30c22306",
   "metadata": {},
   "outputs": [],
   "source": [
    "a = [-1.15, 0.82, -0.17, 16.11, 2.13]"
   ]
  },
  {
   "cell_type": "code",
   "execution_count": 18,
   "id": "fd03ba71-6ae9-4e45-bcc1-c2abb48ec843",
   "metadata": {},
   "outputs": [
    {
     "name": "stdout",
     "output_type": "stream",
     "text": [
      "0.3166367693790533\n",
      "2.2704998375324057\n",
      "0.8436648165963837\n",
      "9919370.3057168\n",
      "8.41486681144013\n"
     ]
    }
   ],
   "source": [
    "for v in a:\n",
    "    print(math.exp(v))\n",
    "    "
   ]
  },
  {
   "cell_type": "code",
   "execution_count": 19,
   "id": "b22a524e-0972-4031-8df0-52c873af189b",
   "metadata": {},
   "outputs": [
    {
     "data": {
      "text/plain": [
       "5.002811227833588"
      ]
     },
     "execution_count": 19,
     "metadata": {},
     "output_type": "execute_result"
    }
   ],
   "source": [
    "math.exp(1.61)"
   ]
  },
  {
   "cell_type": "code",
   "execution_count": 6,
   "id": "5950a30b-d9fb-415e-81ef-9c57566c48eb",
   "metadata": {},
   "outputs": [],
   "source": [
    "a = [1, 2, 3, 4, 6, 8, 11]\n",
    "\n",
    "b = [-3, 1, 2, 3, 5, 6, 7]"
   ]
  },
  {
   "cell_type": "code",
   "execution_count": 8,
   "id": "1d5bde7b-3648-463d-9786-8a132d2e57a9",
   "metadata": {},
   "outputs": [
    {
     "data": {
      "text/plain": [
       "(5.0, 3.0)"
      ]
     },
     "execution_count": 8,
     "metadata": {},
     "output_type": "execute_result"
    }
   ],
   "source": [
    "sum(a)/len(a), sum(b)/len(b)"
   ]
  },
  {
   "cell_type": "code",
   "execution_count": 4,
   "id": "c09b1b40-fc44-4526-a5e0-76a082568e3a",
   "metadata": {},
   "outputs": [
    {
     "name": "stdout",
     "output_type": "stream",
     "text": [
      "[[3. 5.]]\n",
      "146.0\n"
     ]
    }
   ],
   "source": [
    "from sklearn.cluster import KMeans\n",
    "\n",
    "#import numpy as np\n",
    "\n",
    " \n",
    "\n",
    "# Запишем координаты точек в виде массива numpy\n",
    "\n",
    "X = np.array([[-3, 3], [1, 4], [2, 6], [3, 8], [5, 2], [6, 11], [7, 1]])\n",
    "\n",
    " \n",
    "\n",
    "# Обучим модель KMeans на нашем массиве с одним кластером\n",
    "\n",
    "kmeans = KMeans(n_clusters=1).fit(X)\n",
    "\n",
    " \n",
    "\n",
    "# Выведем координаты центроида данного кластера\n",
    "\n",
    "print(kmeans.cluster_centers_)\n",
    "\n",
    " \n",
    "\n",
    "# Выведем сумму квадратов расстояний точек от центроида = аттрибут модели kmeans\n",
    "\n",
    "print(kmeans.inertia_)"
   ]
  }
 ],
 "metadata": {
  "kernelspec": {
   "display_name": "Python 3 (ipykernel)",
   "language": "python",
   "name": "python3"
  },
  "language_info": {
   "codemirror_mode": {
    "name": "ipython",
    "version": 3
   },
   "file_extension": ".py",
   "mimetype": "text/x-python",
   "name": "python",
   "nbconvert_exporter": "python",
   "pygments_lexer": "ipython3",
   "version": "3.12.4"
  }
 },
 "nbformat": 4,
 "nbformat_minor": 5
}
