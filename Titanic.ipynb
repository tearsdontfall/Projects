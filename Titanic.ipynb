{
 "cells": [
  {
   "cell_type": "code",
   "execution_count": 1,
   "id": "992c3118-e304-430c-a3de-a18e4d3e0a0d",
   "metadata": {},
   "outputs": [],
   "source": [
    "import pandas as pd\n",
    "import numpy as np\n",
    "import seaborn as sns\n",
    "import math\n",
    "from matplotlib import pyplot as plt\n",
    "import patsy"
   ]
  },
  {
   "cell_type": "code",
   "execution_count": 2,
   "id": "dec4e4c9-4ed0-493d-bee3-1271e589abca",
   "metadata": {},
   "outputs": [],
   "source": [
    "#Пакеты для регрессий\n",
    "\n",
    "import statsmodels.api as sm\n",
    "from statsmodels.genmod.generalized_linear_model import GLM\n",
    "from statsmodels.genmod import families\n",
    "from sklearn.model_selection import train_test_split\n",
    "from sklearn.preprocessing import StandardScaler\n",
    "from sklearn.linear_model import LogisticRegression\n",
    "from sklearn.metrics import accuracy_score, classification_report, confusion_matrix, roc_curve, auc"
   ]
  },
  {
   "cell_type": "code",
   "execution_count": 3,
   "id": "9e0a6cbf-6639-49fd-878c-a0d8fc811b5b",
   "metadata": {},
   "outputs": [],
   "source": [
    "df = pd.read_csv('Documents/Datasets/titanic/train.csv')"
   ]
  },
  {
   "cell_type": "code",
   "execution_count": 4,
   "id": "73074038-38d4-4026-a9b4-7e429994d39a",
   "metadata": {},
   "outputs": [],
   "source": [
    "df['Age'] = df.Age.fillna(df.Age.median())"
   ]
  },
  {
   "cell_type": "code",
   "execution_count": 5,
   "id": "beab5112-10e5-4050-87ba-8d37b3f472a4",
   "metadata": {},
   "outputs": [
    {
     "data": {
      "text/plain": [
       "(891, 12)"
      ]
     },
     "execution_count": 5,
     "metadata": {},
     "output_type": "execute_result"
    }
   ],
   "source": [
    "df.shape"
   ]
  },
  {
   "cell_type": "code",
   "execution_count": 6,
   "id": "441126f8-eedb-4e26-8843-074b5bd34ee2",
   "metadata": {},
   "outputs": [
    {
     "data": {
      "text/html": [
       "<div>\n",
       "<style scoped>\n",
       "    .dataframe tbody tr th:only-of-type {\n",
       "        vertical-align: middle;\n",
       "    }\n",
       "\n",
       "    .dataframe tbody tr th {\n",
       "        vertical-align: top;\n",
       "    }\n",
       "\n",
       "    .dataframe thead th {\n",
       "        text-align: right;\n",
       "    }\n",
       "</style>\n",
       "<table border=\"1\" class=\"dataframe\">\n",
       "  <thead>\n",
       "    <tr style=\"text-align: right;\">\n",
       "      <th></th>\n",
       "      <th>PassengerId</th>\n",
       "      <th>Survived</th>\n",
       "      <th>Pclass</th>\n",
       "      <th>Name</th>\n",
       "      <th>Sex</th>\n",
       "      <th>Age</th>\n",
       "      <th>SibSp</th>\n",
       "      <th>Parch</th>\n",
       "      <th>Ticket</th>\n",
       "      <th>Fare</th>\n",
       "      <th>Cabin</th>\n",
       "      <th>Embarked</th>\n",
       "    </tr>\n",
       "  </thead>\n",
       "  <tbody>\n",
       "    <tr>\n",
       "      <th>0</th>\n",
       "      <td>1</td>\n",
       "      <td>0</td>\n",
       "      <td>3</td>\n",
       "      <td>Braund, Mr. Owen Harris</td>\n",
       "      <td>male</td>\n",
       "      <td>22.0</td>\n",
       "      <td>1</td>\n",
       "      <td>0</td>\n",
       "      <td>A/5 21171</td>\n",
       "      <td>7.2500</td>\n",
       "      <td>NaN</td>\n",
       "      <td>S</td>\n",
       "    </tr>\n",
       "    <tr>\n",
       "      <th>1</th>\n",
       "      <td>2</td>\n",
       "      <td>1</td>\n",
       "      <td>1</td>\n",
       "      <td>Cumings, Mrs. John Bradley (Florence Briggs Th...</td>\n",
       "      <td>female</td>\n",
       "      <td>38.0</td>\n",
       "      <td>1</td>\n",
       "      <td>0</td>\n",
       "      <td>PC 17599</td>\n",
       "      <td>71.2833</td>\n",
       "      <td>C85</td>\n",
       "      <td>C</td>\n",
       "    </tr>\n",
       "    <tr>\n",
       "      <th>2</th>\n",
       "      <td>3</td>\n",
       "      <td>1</td>\n",
       "      <td>3</td>\n",
       "      <td>Heikkinen, Miss. Laina</td>\n",
       "      <td>female</td>\n",
       "      <td>26.0</td>\n",
       "      <td>0</td>\n",
       "      <td>0</td>\n",
       "      <td>STON/O2. 3101282</td>\n",
       "      <td>7.9250</td>\n",
       "      <td>NaN</td>\n",
       "      <td>S</td>\n",
       "    </tr>\n",
       "    <tr>\n",
       "      <th>3</th>\n",
       "      <td>4</td>\n",
       "      <td>1</td>\n",
       "      <td>1</td>\n",
       "      <td>Futrelle, Mrs. Jacques Heath (Lily May Peel)</td>\n",
       "      <td>female</td>\n",
       "      <td>35.0</td>\n",
       "      <td>1</td>\n",
       "      <td>0</td>\n",
       "      <td>113803</td>\n",
       "      <td>53.1000</td>\n",
       "      <td>C123</td>\n",
       "      <td>S</td>\n",
       "    </tr>\n",
       "    <tr>\n",
       "      <th>4</th>\n",
       "      <td>5</td>\n",
       "      <td>0</td>\n",
       "      <td>3</td>\n",
       "      <td>Allen, Mr. William Henry</td>\n",
       "      <td>male</td>\n",
       "      <td>35.0</td>\n",
       "      <td>0</td>\n",
       "      <td>0</td>\n",
       "      <td>373450</td>\n",
       "      <td>8.0500</td>\n",
       "      <td>NaN</td>\n",
       "      <td>S</td>\n",
       "    </tr>\n",
       "  </tbody>\n",
       "</table>\n",
       "</div>"
      ],
      "text/plain": [
       "   PassengerId  Survived  Pclass  \\\n",
       "0            1         0       3   \n",
       "1            2         1       1   \n",
       "2            3         1       3   \n",
       "3            4         1       1   \n",
       "4            5         0       3   \n",
       "\n",
       "                                                Name     Sex   Age  SibSp  \\\n",
       "0                            Braund, Mr. Owen Harris    male  22.0      1   \n",
       "1  Cumings, Mrs. John Bradley (Florence Briggs Th...  female  38.0      1   \n",
       "2                             Heikkinen, Miss. Laina  female  26.0      0   \n",
       "3       Futrelle, Mrs. Jacques Heath (Lily May Peel)  female  35.0      1   \n",
       "4                           Allen, Mr. William Henry    male  35.0      0   \n",
       "\n",
       "   Parch            Ticket     Fare Cabin Embarked  \n",
       "0      0         A/5 21171   7.2500   NaN        S  \n",
       "1      0          PC 17599  71.2833   C85        C  \n",
       "2      0  STON/O2. 3101282   7.9250   NaN        S  \n",
       "3      0            113803  53.1000  C123        S  \n",
       "4      0            373450   8.0500   NaN        S  "
      ]
     },
     "execution_count": 6,
     "metadata": {},
     "output_type": "execute_result"
    }
   ],
   "source": [
    "df.head()"
   ]
  },
  {
   "cell_type": "code",
   "execution_count": 7,
   "id": "c4439413-152c-4519-90ab-c61d0ee3dd08",
   "metadata": {},
   "outputs": [],
   "source": [
    "df['Sex'] = df.Sex.map({'male':0,'female':1})"
   ]
  },
  {
   "cell_type": "code",
   "execution_count": 8,
   "id": "5dc4a936-359a-4669-8b60-0d682ab9a5ee",
   "metadata": {},
   "outputs": [],
   "source": [
    "x = df[['Sex','Pclass','Age']]\n",
    "y = df.Survived"
   ]
  },
  {
   "cell_type": "code",
   "execution_count": 9,
   "id": "b32598ac-0e20-4ee7-84da-5512950820c6",
   "metadata": {},
   "outputs": [
    {
     "name": "stdout",
     "output_type": "stream",
     "text": [
      "                 Generalized Linear Model Regression Results                  \n",
      "==============================================================================\n",
      "Dep. Variable:               Survived   No. Observations:                  891\n",
      "Model:                            GLM   Df Residuals:                      888\n",
      "Model Family:                Binomial   Df Model:                            2\n",
      "Link Function:                  Logit   Scale:                          1.0000\n",
      "Method:                          IRLS   Log-Likelihood:                -416.96\n",
      "Date:                Thu, 03 Oct 2024   Deviance:                       833.91\n",
      "Time:                        23:22:21   Pearson chi2:                     890.\n",
      "No. Iterations:                     5   Pseudo R-squ. (CS):             0.3269\n",
      "Covariance Type:            nonrobust                                         \n",
      "==============================================================================\n",
      "                 coef    std err          z      P>|z|      [0.025      0.975]\n",
      "------------------------------------------------------------------------------\n",
      "Sex            2.6874      0.176     15.254      0.000       2.342       3.033\n",
      "Pclass        -0.6764      0.067    -10.123      0.000      -0.807      -0.545\n",
      "Age           -0.0033      0.004     -0.754      0.451      -0.012       0.005\n",
      "==============================================================================\n"
     ]
    }
   ],
   "source": [
    "model = sm.GLM(y,x, family=families.Binomial()).fit()\n",
    "print(model.summary())"
   ]
  },
  {
   "cell_type": "code",
   "execution_count": 10,
   "id": "1660876f-909a-4a48-a814-64ac7f5d4a0c",
   "metadata": {},
   "outputs": [],
   "source": [
    "formula = 'Survived ~ C(Sex) + C(Pclass) + C(Sex):C(Pclass) + Age'"
   ]
  },
  {
   "cell_type": "code",
   "execution_count": 11,
   "id": "885b585b-8302-44f3-8a25-6374b95c49c1",
   "metadata": {},
   "outputs": [],
   "source": [
    "y, x = patsy.dmatrices(formula, data=df, return_type='dataframe')"
   ]
  },
  {
   "cell_type": "code",
   "execution_count": 12,
   "id": "95d7f6b4-7b41-40dd-83c9-082ed97cb0f2",
   "metadata": {},
   "outputs": [
    {
     "name": "stdout",
     "output_type": "stream",
     "text": [
      "                 Generalized Linear Model Regression Results                  \n",
      "==============================================================================\n",
      "Dep. Variable:               Survived   No. Observations:                  891\n",
      "Model:                            GLM   Df Residuals:                      884\n",
      "Model Family:                Binomial   Df Model:                            6\n",
      "Link Function:                  Logit   Scale:                          1.0000\n",
      "Method:                          IRLS   Log-Likelihood:                -387.13\n",
      "Date:                Thu, 03 Oct 2024   Deviance:                       774.26\n",
      "Time:                        23:22:26   Pearson chi2:                     965.\n",
      "No. Iterations:                     6   Pseudo R-squ. (CS):             0.3705\n",
      "Covariance Type:            nonrobust                                         \n",
      "==============================================================================================\n",
      "                                 coef    std err          z      P>|z|      [0.025      0.975]\n",
      "----------------------------------------------------------------------------------------------\n",
      "Intercept                      0.8685      0.348      2.492      0.013       0.186       1.552\n",
      "C(Sex)[T.1]                    3.9149      0.621      6.308      0.000       2.699       5.131\n",
      "C(Pclass)[T.2]                -1.5043      0.342     -4.396      0.000      -2.175      -0.834\n",
      "C(Pclass)[T.3]                -1.7759      0.269     -6.607      0.000      -2.303      -1.249\n",
      "C(Sex)[T.1]:C(Pclass)[T.2]     0.3315      0.801      0.414      0.679      -1.239       1.902\n",
      "C(Sex)[T.1]:C(Pclass)[T.3]    -2.1335      0.663     -3.219      0.001      -3.433      -0.834\n",
      "Age                           -0.0371      0.008     -4.715      0.000      -0.052      -0.022\n",
      "==============================================================================================\n"
     ]
    }
   ],
   "source": [
    "model = sm.GLM(y, x, family=families.Binomial()).fit()\n",
    "print(model.summary())"
   ]
  },
  {
   "cell_type": "code",
   "execution_count": 91,
   "id": "c19689c9-16b9-47ea-a7a8-2640e0f2d2e2",
   "metadata": {},
   "outputs": [],
   "source": [
    "y_pred = model.predict(x)\n",
    "y_pred_class = [1 if prob > 0.5 else 0 for prob in y_pred]\n",
    "accuracy = accuracy_score(y, y_pred_class)"
   ]
  },
  {
   "cell_type": "code",
   "execution_count": 92,
   "id": "49f921f7-fb23-4915-8db4-0b7ca3448326",
   "metadata": {},
   "outputs": [
    {
     "name": "stdout",
     "output_type": "stream",
     "text": [
      "accuracy: 78.67564534231201\n"
     ]
    }
   ],
   "source": [
    "print(f'accuracy: {accuracy*100}')"
   ]
  },
  {
   "cell_type": "code",
   "execution_count": 94,
   "id": "2ae2c4ac-b82f-4308-81cf-fa8e6d9844da",
   "metadata": {},
   "outputs": [
    {
     "data": {
      "image/png": "[encoded data removed]",
      "text/plain": [
       "<Figure size 640x480 with 1 Axes>"
      ]
     },
     "metadata": {},
     "output_type": "display_data"
    }
   ],
   "source": [
    "infl = model.get_influence()\n",
    "fig = infl.plot_index(y_var=\"cooks\")\n",
    "fig.tight_layout()"
   ]
  },
  {
   "cell_type": "code",
   "execution_count": 155,
   "id": "d12cfc34-2ac3-4173-9b49-c3f3b5acf6a3",
   "metadata": {},
   "outputs": [],
   "source": [
    "x = sm.add_constant(x)"
   ]
  },
  {
   "cell_type": "code",
   "execution_count": 156,
   "id": "8e2e83ef-5a1d-4b54-ad2b-f53fa90cc50a",
   "metadata": {},
   "outputs": [
    {
     "name": "stdout",
     "output_type": "stream",
     "text": [
      "Optimization terminated successfully.\n",
      "         Current function value: 0.452069\n",
      "         Iterations 6\n",
      "                           Logit Regression Results                           \n",
      "==============================================================================\n",
      "Dep. Variable:               Survived   No. Observations:                  891\n",
      "Model:                          Logit   Df Residuals:                      887\n",
      "Method:                           MLE   Df Model:                            3\n",
      "Date:                Sun, 29 Sep 2024   Pseudo R-squ.:                  0.3211\n",
      "Time:                        23:09:30   Log-Likelihood:                -402.79\n",
      "converged:                       True   LL-Null:                       -593.33\n",
      "Covariance Type:            nonrobust   LLR p-value:                 2.792e-82\n",
      "==============================================================================\n",
      "                 coef    std err          z      P>|z|      [0.025      0.975]\n",
      "------------------------------------------------------------------------------\n",
      "const          2.1125      0.406      5.203      0.000       1.317       2.908\n",
      "Sex            2.6123      0.187     14.006      0.000       2.247       2.978\n",
      "Pclass        -1.1717      0.119     -9.820      0.000      -1.406      -0.938\n",
      "Age           -0.0333      0.007     -4.519      0.000      -0.048      -0.019\n",
      "==============================================================================\n"
     ]
    }
   ],
   "source": [
    "model = sm.Logit(y, x)\n",
    "results = model.fit()\n",
    "print(results.summary())"
   ]
  }
 ],
 "metadata": {
  "kernelspec": {
   "display_name": "Python 3 (ipykernel)",
   "language": "python",
   "name": "python3"
  },
  "language_info": {
   "codemirror_mode": {
    "name": "ipython",
    "version": 3
   },
   "file_extension": ".py",
   "mimetype": "text/x-python",
   "name": "python",
   "nbconvert_exporter": "python",
   "pygments_lexer": "ipython3",
   "version": "3.12.4"
  }
 },
 "nbformat": 4,
 "nbformat_minor": 5
}
