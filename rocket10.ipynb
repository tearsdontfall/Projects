{
 "cells": [
  {
   "cell_type": "code",
   "execution_count": 1,
   "id": "b7a08f05-e874-4c17-b2f4-00ce00756e61",
   "metadata": {},
   "outputs": [],
   "source": [
    "import pandas as pd"
   ]
  },
  {
   "cell_type": "code",
   "execution_count": 22,
   "id": "a2091f65-7304-4d15-b7b4-6f81fc4eb517",
   "metadata": {},
   "outputs": [],
   "source": [
    "df_main = pd.read_csv('Downloads/rocket10/main_dataset.csv')"
   ]
  },
  {
   "cell_type": "code",
   "execution_count": 23,
   "id": "61806178-8095-43a1-b3c0-aa510a205c0c",
   "metadata": {},
   "outputs": [
    {
     "data": {
      "text/html": [
       "<div>\n",
       "<style scoped>\n",
       "    .dataframe tbody tr th:only-of-type {\n",
       "        vertical-align: middle;\n",
       "    }\n",
       "\n",
       "    .dataframe tbody tr th {\n",
       "        vertical-align: top;\n",
       "    }\n",
       "\n",
       "    .dataframe thead th {\n",
       "        text-align: right;\n",
       "    }\n",
       "</style>\n",
       "<table border=\"1\" class=\"dataframe\">\n",
       "  <thead>\n",
       "    <tr style=\"text-align: right;\">\n",
       "      <th></th>\n",
       "      <th>Source_ID</th>\n",
       "      <th>Impressions</th>\n",
       "      <th>Clicks</th>\n",
       "      <th>Installs</th>\n",
       "      <th>add_to_cart</th>\n",
       "      <th>first_purchase</th>\n",
       "      <th>purchase_total</th>\n",
       "      <th>purchase_sales</th>\n",
       "    </tr>\n",
       "  </thead>\n",
       "  <tbody>\n",
       "    <tr>\n",
       "      <th>0</th>\n",
       "      <td>source1</td>\n",
       "      <td>2.0</td>\n",
       "      <td>0.0</td>\n",
       "      <td>0</td>\n",
       "      <td>0</td>\n",
       "      <td>0</td>\n",
       "      <td>0</td>\n",
       "      <td>0.000000e+00</td>\n",
       "    </tr>\n",
       "    <tr>\n",
       "      <th>1</th>\n",
       "      <td>source10</td>\n",
       "      <td>0.0</td>\n",
       "      <td>1138.0</td>\n",
       "      <td>86</td>\n",
       "      <td>31</td>\n",
       "      <td>5</td>\n",
       "      <td>3</td>\n",
       "      <td>7.355000e+03</td>\n",
       "    </tr>\n",
       "    <tr>\n",
       "      <th>2</th>\n",
       "      <td>source11</td>\n",
       "      <td>0.0</td>\n",
       "      <td>0.0</td>\n",
       "      <td>660488</td>\n",
       "      <td>252178</td>\n",
       "      <td>51896</td>\n",
       "      <td>279905</td>\n",
       "      <td>8.805485e+08</td>\n",
       "    </tr>\n",
       "    <tr>\n",
       "      <th>3</th>\n",
       "      <td>source12</td>\n",
       "      <td>0.0</td>\n",
       "      <td>7.0</td>\n",
       "      <td>1618</td>\n",
       "      <td>369</td>\n",
       "      <td>77</td>\n",
       "      <td>108</td>\n",
       "      <td>3.114025e+05</td>\n",
       "    </tr>\n",
       "    <tr>\n",
       "      <th>4</th>\n",
       "      <td>source13</td>\n",
       "      <td>0.0</td>\n",
       "      <td>136.0</td>\n",
       "      <td>4</td>\n",
       "      <td>2</td>\n",
       "      <td>1</td>\n",
       "      <td>1</td>\n",
       "      <td>6.050000e+02</td>\n",
       "    </tr>\n",
       "  </tbody>\n",
       "</table>\n",
       "</div>"
      ],
      "text/plain": [
       "  Source_ID  Impressions  Clicks  Installs  add_to_cart  first_purchase  \\\n",
       "0   source1          2.0     0.0         0            0               0   \n",
       "1  source10          0.0  1138.0        86           31               5   \n",
       "2  source11          0.0     0.0    660488       252178           51896   \n",
       "3  source12          0.0     7.0      1618          369              77   \n",
       "4  source13          0.0   136.0         4            2               1   \n",
       "\n",
       "   purchase_total  purchase_sales  \n",
       "0               0    0.000000e+00  \n",
       "1               3    7.355000e+03  \n",
       "2          279905    8.805485e+08  \n",
       "3             108    3.114025e+05  \n",
       "4               1    6.050000e+02  "
      ]
     },
     "execution_count": 23,
     "metadata": {},
     "output_type": "execute_result"
    }
   ],
   "source": [
    "df_main.head()"
   ]
  },
  {
   "cell_type": "code",
   "execution_count": 24,
   "id": "d75ecece-2d00-490e-9e41-72d4be4e765a",
   "metadata": {},
   "outputs": [
    {
     "data": {
      "text/plain": [
       "Source_ID          object\n",
       "Impressions       float64\n",
       "Clicks            float64\n",
       "Installs            int64\n",
       "add_to_cart         int64\n",
       "first_purchase      int64\n",
       "purchase_total      int64\n",
       "purchase_sales    float64\n",
       "dtype: object"
      ]
     },
     "execution_count": 24,
     "metadata": {},
     "output_type": "execute_result"
    }
   ],
   "source": [
    "df_main.dtypes"
   ]
  },
  {
   "cell_type": "code",
   "execution_count": 25,
   "id": "21892494-b906-4970-a1ff-e955ef703794",
   "metadata": {},
   "outputs": [
    {
     "data": {
      "text/plain": [
       "(97, 8)"
      ]
     },
     "execution_count": 25,
     "metadata": {},
     "output_type": "execute_result"
    }
   ],
   "source": [
    "df_main.shape"
   ]
  },
  {
   "cell_type": "code",
   "execution_count": 26,
   "id": "37892cb4-8927-4f4d-985d-7fa2dba494fb",
   "metadata": {},
   "outputs": [
    {
     "data": {
      "text/plain": [
       "array(['source1', 'source10', 'source11', 'source12', 'source13',\n",
       "       'source14', 'source15', 'source16', 'source17', 'source18',\n",
       "       'source19', 'source2', 'source20', 'source21', 'source22',\n",
       "       'source23', 'source24', 'source25', 'source26', 'source27',\n",
       "       'source28', 'source29', 'source3', 'source30', 'source31',\n",
       "       'source32', 'source33', 'source34', 'source35', 'source36',\n",
       "       'source37', 'source38', 'source39', 'source4', 'source40',\n",
       "       'source41', 'source42', 'source43', 'source44', 'source45',\n",
       "       'source46', 'source47', 'source48', 'source49', 'source5',\n",
       "       'source50', 'source51', 'source52', 'source53', 'source54',\n",
       "       'source55', 'source56', 'source57', 'source58', 'source59',\n",
       "       'source6', 'source60', 'source61', 'source62', 'source63',\n",
       "       'source64', 'source65', 'source66', 'source67', 'source68',\n",
       "       'source69', 'source7', 'source70', 'source71', 'source72',\n",
       "       'source73', 'source74', 'source75', 'source76', 'source77',\n",
       "       'source78', 'source79', 'source8', 'source80', 'source81',\n",
       "       'source82', 'source83', 'source84', 'source85', 'source86',\n",
       "       'source87', 'source88', 'source89', 'source9', 'source90',\n",
       "       'source91', 'source92', 'source93', 'source94', 'source95',\n",
       "       'source96', 'source97'], dtype=object)"
      ]
     },
     "execution_count": 26,
     "metadata": {},
     "output_type": "execute_result"
    }
   ],
   "source": [
    "df_main.Source_ID.unique()"
   ]
  },
  {
   "cell_type": "code",
   "execution_count": 27,
   "id": "3e98f9a2-514c-4be5-b79c-d9756379dfbd",
   "metadata": {},
   "outputs": [
    {
     "data": {
      "text/plain": [
       "Source_ID         0\n",
       "Impressions       0\n",
       "Clicks            0\n",
       "Installs          0\n",
       "add_to_cart       0\n",
       "first_purchase    0\n",
       "purchase_total    0\n",
       "purchase_sales    0\n",
       "dtype: int64"
      ]
     },
     "execution_count": 27,
     "metadata": {},
     "output_type": "execute_result"
    }
   ],
   "source": [
    "#Открыть файл main_dataset.csv, проверить на наличие пропущенных значений\n",
    "df_main.isna().sum()"
   ]
  },
  {
   "cell_type": "code",
   "execution_count": 28,
   "id": "cfa7224a-c8c0-4dee-b3da-f0ee04560c91",
   "metadata": {},
   "outputs": [
    {
     "data": {
      "text/plain": [
       "Source_ID         0\n",
       "Impressions       0\n",
       "Clicks            0\n",
       "Installs          0\n",
       "add_to_cart       0\n",
       "first_purchase    0\n",
       "purchase_total    0\n",
       "purchase_sales    0\n",
       "dtype: int64"
      ]
     },
     "execution_count": 28,
     "metadata": {},
     "output_type": "execute_result"
    }
   ],
   "source": [
    "df_main.isnull().sum()"
   ]
  },
  {
   "cell_type": "code",
   "execution_count": 69,
   "id": "c524f5e9-5c72-4338-8011-2780252227d2",
   "metadata": {},
   "outputs": [],
   "source": [
    "# Задание 1.nan и нулей не обнаружено"
   ]
  },
  {
   "cell_type": "code",
   "execution_count": null,
   "id": "e76bbef7-dfc4-4995-a009-18238ececfcc",
   "metadata": {},
   "outputs": [],
   "source": [
    "#Создать и вывести список (class 'list') источников, для которых соблюдены следующие условия: \n",
    "#более 1000 установок (Installs) и средний чек выше 3000 рублей"
   ]
  },
  {
   "cell_type": "code",
   "execution_count": 31,
   "id": "1a914dfa-b4ed-49ad-a1c1-4cf5d554d35b",
   "metadata": {},
   "outputs": [],
   "source": [
    "df_main['aov'] = df_main.purchase_sales / df_main.purchase_total"
   ]
  },
  {
   "cell_type": "code",
   "execution_count": 70,
   "id": "b215bf96-2b5d-4de9-94e9-82f76e18b1ef",
   "metadata": {},
   "outputs": [
    {
     "data": {
      "text/plain": [
       "['source11',\n",
       " 'source2',\n",
       " 'source25',\n",
       " 'source38',\n",
       " 'source39',\n",
       " 'source42',\n",
       " 'source68',\n",
       " 'source93']"
      ]
     },
     "execution_count": 70,
     "metadata": {},
     "output_type": "execute_result"
    }
   ],
   "source": [
    "df_main.query('Installs > 1000 & aov > 3000').Source_ID.to_list()\n",
    "#Задание 2"
   ]
  },
  {
   "cell_type": "code",
   "execution_count": 68,
   "id": "d9d07f6c-e418-4dcc-bc12-bc56bb00a43a",
   "metadata": {},
   "outputs": [],
   "source": [
    "#Вывести топ-5 источников с самой высокой конверсией из установки (Installs) в первую покупку (first_purchase)\n",
    "df_main['cr1'] = df_main.first_purchase / df_main.Installs\n",
    "df_main_1 = df_main.sort_values('cr1', ascending=False).head(5)"
   ]
  },
  {
   "cell_type": "code",
   "execution_count": 71,
   "id": "76205c3d-b4be-40fc-989a-6e6d9c8c2edc",
   "metadata": {},
   "outputs": [
    {
     "data": {
      "text/html": [
       "<div>\n",
       "<style scoped>\n",
       "    .dataframe tbody tr th:only-of-type {\n",
       "        vertical-align: middle;\n",
       "    }\n",
       "\n",
       "    .dataframe tbody tr th {\n",
       "        vertical-align: top;\n",
       "    }\n",
       "\n",
       "    .dataframe thead th {\n",
       "        text-align: right;\n",
       "    }\n",
       "</style>\n",
       "<table border=\"1\" class=\"dataframe\">\n",
       "  <thead>\n",
       "    <tr style=\"text-align: right;\">\n",
       "      <th></th>\n",
       "      <th>Source_ID</th>\n",
       "      <th>Impressions</th>\n",
       "      <th>Clicks</th>\n",
       "      <th>Installs</th>\n",
       "      <th>add_to_cart</th>\n",
       "      <th>first_purchase</th>\n",
       "      <th>purchase_total</th>\n",
       "      <th>purchase_sales</th>\n",
       "      <th>aov</th>\n",
       "      <th>cr1</th>\n",
       "    </tr>\n",
       "  </thead>\n",
       "  <tbody>\n",
       "    <tr>\n",
       "      <th>30</th>\n",
       "      <td>source37</td>\n",
       "      <td>0.0</td>\n",
       "      <td>129.0</td>\n",
       "      <td>11</td>\n",
       "      <td>8</td>\n",
       "      <td>3</td>\n",
       "      <td>1</td>\n",
       "      <td>4784.0</td>\n",
       "      <td>4784.000000</td>\n",
       "      <td>0.272727</td>\n",
       "    </tr>\n",
       "    <tr>\n",
       "      <th>4</th>\n",
       "      <td>source13</td>\n",
       "      <td>0.0</td>\n",
       "      <td>136.0</td>\n",
       "      <td>4</td>\n",
       "      <td>2</td>\n",
       "      <td>1</td>\n",
       "      <td>1</td>\n",
       "      <td>605.0</td>\n",
       "      <td>605.000000</td>\n",
       "      <td>0.250000</td>\n",
       "    </tr>\n",
       "    <tr>\n",
       "      <th>38</th>\n",
       "      <td>source44</td>\n",
       "      <td>0.0</td>\n",
       "      <td>0.0</td>\n",
       "      <td>6</td>\n",
       "      <td>2</td>\n",
       "      <td>1</td>\n",
       "      <td>1</td>\n",
       "      <td>1159.0</td>\n",
       "      <td>1159.000000</td>\n",
       "      <td>0.166667</td>\n",
       "    </tr>\n",
       "    <tr>\n",
       "      <th>31</th>\n",
       "      <td>source38</td>\n",
       "      <td>480737.0</td>\n",
       "      <td>273434.0</td>\n",
       "      <td>59466</td>\n",
       "      <td>34801</td>\n",
       "      <td>9409</td>\n",
       "      <td>27155</td>\n",
       "      <td>86639356.5</td>\n",
       "      <td>3190.548941</td>\n",
       "      <td>0.158225</td>\n",
       "    </tr>\n",
       "    <tr>\n",
       "      <th>74</th>\n",
       "      <td>source77</td>\n",
       "      <td>857397.0</td>\n",
       "      <td>2862.0</td>\n",
       "      <td>95</td>\n",
       "      <td>46</td>\n",
       "      <td>13</td>\n",
       "      <td>37</td>\n",
       "      <td>80935.0</td>\n",
       "      <td>2187.432432</td>\n",
       "      <td>0.136842</td>\n",
       "    </tr>\n",
       "  </tbody>\n",
       "</table>\n",
       "</div>"
      ],
      "text/plain": [
       "   Source_ID  Impressions    Clicks  Installs  add_to_cart  first_purchase  \\\n",
       "30  source37          0.0     129.0        11            8               3   \n",
       "4   source13          0.0     136.0         4            2               1   \n",
       "38  source44          0.0       0.0         6            2               1   \n",
       "31  source38     480737.0  273434.0     59466        34801            9409   \n",
       "74  source77     857397.0    2862.0        95           46              13   \n",
       "\n",
       "    purchase_total  purchase_sales          aov       cr1  \n",
       "30               1          4784.0  4784.000000  0.272727  \n",
       "4                1           605.0   605.000000  0.250000  \n",
       "38               1          1159.0  1159.000000  0.166667  \n",
       "31           27155      86639356.5  3190.548941  0.158225  \n",
       "74              37         80935.0  2187.432432  0.136842  "
      ]
     },
     "execution_count": 71,
     "metadata": {},
     "output_type": "execute_result"
    }
   ],
   "source": [
    "df_main_1\n",
    "#Задание 3"
   ]
  },
  {
   "cell_type": "code",
   "execution_count": 43,
   "id": "2b659cd9-a2d6-47fd-a311-eca680a2b9f8",
   "metadata": {},
   "outputs": [],
   "source": [
    "df_ret = pd.read_csv('Downloads/rocket10/retention_dataset.csv')"
   ]
  },
  {
   "cell_type": "code",
   "execution_count": 44,
   "id": "3b846cd8-45b8-430c-bbd1-000f3ea4f8dd",
   "metadata": {},
   "outputs": [
    {
     "data": {
      "text/html": [
       "<div>\n",
       "<style scoped>\n",
       "    .dataframe tbody tr th:only-of-type {\n",
       "        vertical-align: middle;\n",
       "    }\n",
       "\n",
       "    .dataframe tbody tr th {\n",
       "        vertical-align: top;\n",
       "    }\n",
       "\n",
       "    .dataframe thead th {\n",
       "        text-align: right;\n",
       "    }\n",
       "</style>\n",
       "<table border=\"1\" class=\"dataframe\">\n",
       "  <thead>\n",
       "    <tr style=\"text-align: right;\">\n",
       "      <th></th>\n",
       "      <th>Source_ID</th>\n",
       "      <th>Install Day</th>\n",
       "      <th>Day 1</th>\n",
       "      <th>Day 3</th>\n",
       "      <th>Day 7</th>\n",
       "      <th>Day 30</th>\n",
       "    </tr>\n",
       "  </thead>\n",
       "  <tbody>\n",
       "    <tr>\n",
       "      <th>0</th>\n",
       "      <td>source10</td>\n",
       "      <td>86</td>\n",
       "      <td>16</td>\n",
       "      <td>10</td>\n",
       "      <td>5</td>\n",
       "      <td>5</td>\n",
       "    </tr>\n",
       "    <tr>\n",
       "      <th>1</th>\n",
       "      <td>source12</td>\n",
       "      <td>1618</td>\n",
       "      <td>341</td>\n",
       "      <td>146</td>\n",
       "      <td>91</td>\n",
       "      <td>47</td>\n",
       "    </tr>\n",
       "    <tr>\n",
       "      <th>2</th>\n",
       "      <td>source14</td>\n",
       "      <td>830</td>\n",
       "      <td>193</td>\n",
       "      <td>103</td>\n",
       "      <td>71</td>\n",
       "      <td>33</td>\n",
       "    </tr>\n",
       "    <tr>\n",
       "      <th>3</th>\n",
       "      <td>source2</td>\n",
       "      <td>3288</td>\n",
       "      <td>614</td>\n",
       "      <td>324</td>\n",
       "      <td>213</td>\n",
       "      <td>117</td>\n",
       "    </tr>\n",
       "    <tr>\n",
       "      <th>4</th>\n",
       "      <td>source20</td>\n",
       "      <td>21</td>\n",
       "      <td>8</td>\n",
       "      <td>1</td>\n",
       "      <td>3</td>\n",
       "      <td>1</td>\n",
       "    </tr>\n",
       "  </tbody>\n",
       "</table>\n",
       "</div>"
      ],
      "text/plain": [
       "  Source_ID  Install Day  Day 1  Day 3  Day 7  Day 30\n",
       "0  source10           86     16     10      5       5\n",
       "1  source12         1618    341    146     91      47\n",
       "2  source14          830    193    103     71      33\n",
       "3   source2         3288    614    324    213     117\n",
       "4  source20           21      8      1      3       1"
      ]
     },
     "execution_count": 44,
     "metadata": {},
     "output_type": "execute_result"
    }
   ],
   "source": [
    "df_ret.head()"
   ]
  },
  {
   "cell_type": "code",
   "execution_count": null,
   "id": "c272c71b-dbf3-4e6e-8908-523b3ac4a0c8",
   "metadata": {},
   "outputs": [],
   "source": [
    "#Открыть файл retention_dataset.csv и рассчитать долю (%) пользователей, вернувшихся на 3ий день"
   ]
  },
  {
   "cell_type": "code",
   "execution_count": 48,
   "id": "7fbdfc59-f0d8-4ed8-bbf5-dbd68ca0ee91",
   "metadata": {},
   "outputs": [
    {
     "data": {
      "text/plain": [
       "44"
      ]
     },
     "execution_count": 48,
     "metadata": {},
     "output_type": "execute_result"
    }
   ],
   "source": [
    "df_ret.Source_ID.nunique()"
   ]
  },
  {
   "cell_type": "code",
   "execution_count": 54,
   "id": "2e956ffa-7209-42fa-8f9a-fa4822ab4fa7",
   "metadata": {},
   "outputs": [
    {
     "data": {
      "text/plain": [
       "Source_ID         0\n",
       "Install_Day       0\n",
       "Day1              0\n",
       "Day3              0\n",
       "Day7              0\n",
       "Day30             0\n",
       "Day3_retention    0\n",
       "dtype: int64"
      ]
     },
     "execution_count": 54,
     "metadata": {},
     "output_type": "execute_result"
    }
   ],
   "source": [
    "df_ret.isna().sum()"
   ]
  },
  {
   "cell_type": "code",
   "execution_count": 50,
   "id": "a06fd152-5dfa-41b6-a84a-5cf89b99e254",
   "metadata": {},
   "outputs": [],
   "source": [
    "df_ret = df_ret.rename(columns={'Day 1':'Day1','Day 3':'Day3','Day 7':'Day7','Day 30':'Day30','Install Day':'Install_Day'})"
   ]
  },
  {
   "cell_type": "code",
   "execution_count": 74,
   "id": "4174acd1-ea33-40b2-a715-960d4bdb00d1",
   "metadata": {},
   "outputs": [],
   "source": [
    "df_ret['Day3_retention'] = df_ret.Day3 / df_ret.Install_Day\n",
    "df_ret['Day30_retention'] = df_ret.Day30 / df_ret.Install_Day"
   ]
  },
  {
   "cell_type": "code",
   "execution_count": 75,
   "id": "ea80e1b0-8ade-4f70-8e98-630a767a319f",
   "metadata": {},
   "outputs": [
    {
     "data": {
      "text/html": [
       "<div>\n",
       "<style scoped>\n",
       "    .dataframe tbody tr th:only-of-type {\n",
       "        vertical-align: middle;\n",
       "    }\n",
       "\n",
       "    .dataframe tbody tr th {\n",
       "        vertical-align: top;\n",
       "    }\n",
       "\n",
       "    .dataframe thead th {\n",
       "        text-align: right;\n",
       "    }\n",
       "</style>\n",
       "<table border=\"1\" class=\"dataframe\">\n",
       "  <thead>\n",
       "    <tr style=\"text-align: right;\">\n",
       "      <th></th>\n",
       "      <th>Source_ID</th>\n",
       "      <th>Install_Day</th>\n",
       "      <th>Day1</th>\n",
       "      <th>Day3</th>\n",
       "      <th>Day7</th>\n",
       "      <th>Day30</th>\n",
       "      <th>Day3_retention</th>\n",
       "      <th>Day30_retention</th>\n",
       "    </tr>\n",
       "  </thead>\n",
       "  <tbody>\n",
       "    <tr>\n",
       "      <th>0</th>\n",
       "      <td>source10</td>\n",
       "      <td>86</td>\n",
       "      <td>16</td>\n",
       "      <td>10</td>\n",
       "      <td>5</td>\n",
       "      <td>5</td>\n",
       "      <td>0.116279</td>\n",
       "      <td>0.058140</td>\n",
       "    </tr>\n",
       "    <tr>\n",
       "      <th>1</th>\n",
       "      <td>source12</td>\n",
       "      <td>1618</td>\n",
       "      <td>341</td>\n",
       "      <td>146</td>\n",
       "      <td>91</td>\n",
       "      <td>47</td>\n",
       "      <td>0.090235</td>\n",
       "      <td>0.029048</td>\n",
       "    </tr>\n",
       "    <tr>\n",
       "      <th>2</th>\n",
       "      <td>source14</td>\n",
       "      <td>830</td>\n",
       "      <td>193</td>\n",
       "      <td>103</td>\n",
       "      <td>71</td>\n",
       "      <td>33</td>\n",
       "      <td>0.124096</td>\n",
       "      <td>0.039759</td>\n",
       "    </tr>\n",
       "    <tr>\n",
       "      <th>3</th>\n",
       "      <td>source2</td>\n",
       "      <td>3288</td>\n",
       "      <td>614</td>\n",
       "      <td>324</td>\n",
       "      <td>213</td>\n",
       "      <td>117</td>\n",
       "      <td>0.098540</td>\n",
       "      <td>0.035584</td>\n",
       "    </tr>\n",
       "    <tr>\n",
       "      <th>4</th>\n",
       "      <td>source20</td>\n",
       "      <td>21</td>\n",
       "      <td>8</td>\n",
       "      <td>1</td>\n",
       "      <td>3</td>\n",
       "      <td>1</td>\n",
       "      <td>0.047619</td>\n",
       "      <td>0.047619</td>\n",
       "    </tr>\n",
       "  </tbody>\n",
       "</table>\n",
       "</div>"
      ],
      "text/plain": [
       "  Source_ID  Install_Day  Day1  Day3  Day7  Day30  Day3_retention  \\\n",
       "0  source10           86    16    10     5      5        0.116279   \n",
       "1  source12         1618   341   146    91     47        0.090235   \n",
       "2  source14          830   193   103    71     33        0.124096   \n",
       "3   source2         3288   614   324   213    117        0.098540   \n",
       "4  source20           21     8     1     3      1        0.047619   \n",
       "\n",
       "   Day30_retention  \n",
       "0         0.058140  \n",
       "1         0.029048  \n",
       "2         0.039759  \n",
       "3         0.035584  \n",
       "4         0.047619  "
      ]
     },
     "execution_count": 75,
     "metadata": {},
     "output_type": "execute_result"
    }
   ],
   "source": [
    "# Вопрос 1\n",
    "df_ret.head()"
   ]
  },
  {
   "cell_type": "code",
   "execution_count": 61,
   "id": "7aacd95a-db9d-49e6-acd7-ac73c3d714b3",
   "metadata": {},
   "outputs": [],
   "source": [
    "quant  = df_ret.Day30_retention.quantile(0.75)"
   ]
  },
  {
   "cell_type": "code",
   "execution_count": 72,
   "id": "8fc8edfe-5b39-4795-b5ff-03c8e3ea157e",
   "metadata": {},
   "outputs": [],
   "source": [
    "df_ret_1 = df_ret[df_ret.Day3_retention > quant]\n",
    "#Вопрос 2"
   ]
  },
  {
   "cell_type": "code",
   "execution_count": 73,
   "id": "6dcabe0b-22e2-488a-a831-4020fd23a771",
   "metadata": {},
   "outputs": [
    {
     "data": {
      "text/html": [
       "<div>\n",
       "<style scoped>\n",
       "    .dataframe tbody tr th:only-of-type {\n",
       "        vertical-align: middle;\n",
       "    }\n",
       "\n",
       "    .dataframe tbody tr th {\n",
       "        vertical-align: top;\n",
       "    }\n",
       "\n",
       "    .dataframe thead th {\n",
       "        text-align: right;\n",
       "    }\n",
       "</style>\n",
       "<table border=\"1\" class=\"dataframe\">\n",
       "  <thead>\n",
       "    <tr style=\"text-align: right;\">\n",
       "      <th></th>\n",
       "      <th>Source_ID</th>\n",
       "      <th>Impressions</th>\n",
       "      <th>Clicks</th>\n",
       "      <th>Installs</th>\n",
       "      <th>add_to_cart</th>\n",
       "      <th>first_purchase</th>\n",
       "      <th>purchase_total</th>\n",
       "      <th>purchase_sales</th>\n",
       "      <th>aov</th>\n",
       "      <th>cr1</th>\n",
       "      <th>Install_Day</th>\n",
       "      <th>Day1</th>\n",
       "      <th>Day3</th>\n",
       "      <th>Day7</th>\n",
       "      <th>Day30</th>\n",
       "      <th>Day3_retention</th>\n",
       "    </tr>\n",
       "  </thead>\n",
       "  <tbody>\n",
       "    <tr>\n",
       "      <th>0</th>\n",
       "      <td>source37</td>\n",
       "      <td>0.0</td>\n",
       "      <td>129.0</td>\n",
       "      <td>11</td>\n",
       "      <td>8</td>\n",
       "      <td>3</td>\n",
       "      <td>1</td>\n",
       "      <td>4784.0</td>\n",
       "      <td>4784.000000</td>\n",
       "      <td>0.272727</td>\n",
       "      <td>11</td>\n",
       "      <td>2</td>\n",
       "      <td>3</td>\n",
       "      <td>1</td>\n",
       "      <td>0</td>\n",
       "      <td>0.272727</td>\n",
       "    </tr>\n",
       "    <tr>\n",
       "      <th>1</th>\n",
       "      <td>source38</td>\n",
       "      <td>480737.0</td>\n",
       "      <td>273434.0</td>\n",
       "      <td>59466</td>\n",
       "      <td>34801</td>\n",
       "      <td>9409</td>\n",
       "      <td>27155</td>\n",
       "      <td>86639356.5</td>\n",
       "      <td>3190.548941</td>\n",
       "      <td>0.158225</td>\n",
       "      <td>59465</td>\n",
       "      <td>20791</td>\n",
       "      <td>11975</td>\n",
       "      <td>8210</td>\n",
       "      <td>3902</td>\n",
       "      <td>0.201379</td>\n",
       "    </tr>\n",
       "    <tr>\n",
       "      <th>2</th>\n",
       "      <td>source77</td>\n",
       "      <td>857397.0</td>\n",
       "      <td>2862.0</td>\n",
       "      <td>95</td>\n",
       "      <td>46</td>\n",
       "      <td>13</td>\n",
       "      <td>37</td>\n",
       "      <td>80935.0</td>\n",
       "      <td>2187.432432</td>\n",
       "      <td>0.136842</td>\n",
       "      <td>95</td>\n",
       "      <td>25</td>\n",
       "      <td>15</td>\n",
       "      <td>14</td>\n",
       "      <td>2</td>\n",
       "      <td>0.157895</td>\n",
       "    </tr>\n",
       "  </tbody>\n",
       "</table>\n",
       "</div>"
      ],
      "text/plain": [
       "  Source_ID  Impressions    Clicks  Installs  add_to_cart  first_purchase  \\\n",
       "0  source37          0.0     129.0        11            8               3   \n",
       "1  source38     480737.0  273434.0     59466        34801            9409   \n",
       "2  source77     857397.0    2862.0        95           46              13   \n",
       "\n",
       "   purchase_total  purchase_sales          aov       cr1  Install_Day   Day1  \\\n",
       "0               1          4784.0  4784.000000  0.272727           11      2   \n",
       "1           27155      86639356.5  3190.548941  0.158225        59465  20791   \n",
       "2              37         80935.0  2187.432432  0.136842           95     25   \n",
       "\n",
       "    Day3  Day7  Day30  Day3_retention  \n",
       "0      3     1      0        0.272727  \n",
       "1  11975  8210   3902        0.201379  \n",
       "2     15    14      2        0.157895  "
      ]
     },
     "execution_count": 73,
     "metadata": {},
     "output_type": "execute_result"
    }
   ],
   "source": [
    "df_main_1.merge(df_ret_1, how='inner', right_on='Source_ID', left_on='Source_ID')"
   ]
  },
  {
   "cell_type": "code",
   "execution_count": null,
   "id": "028a80d9-76b2-4c0d-9d48-65fe26c624c9",
   "metadata": {},
   "outputs": [],
   "source": []
  }
 ],
 "metadata": {
  "kernelspec": {
   "display_name": "Python 3 (ipykernel)",
   "language": "python",
   "name": "python3"
  },
  "language_info": {
   "codemirror_mode": {
    "name": "ipython",
    "version": 3
   },
   "file_extension": ".py",
   "mimetype": "text/x-python",
   "name": "python",
   "nbconvert_exporter": "python",
   "pygments_lexer": "ipython3",
   "version": "3.12.4"
  }
 },
 "nbformat": 4,
 "nbformat_minor": 5
}
