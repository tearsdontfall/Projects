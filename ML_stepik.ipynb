{
 "cells": [
  {
   "cell_type": "code",
   "execution_count": 1,
   "id": "98b8466d-5bb5-48cb-9aad-d9d6507b2f5d",
   "metadata": {},
   "outputs": [],
   "source": [
    "# Задача исследовать данные stepik об оттоке пользователей курса "
   ]
  },
  {
   "cell_type": "code",
   "execution_count": 2,
   "id": "4c03bb0a-b795-4cff-baa4-41ad8a75945e",
   "metadata": {},
   "outputs": [],
   "source": [
    "import pandas as pd\n",
    "import numpy as np\n",
    "import seaborn as sns\n",
    "from matplotlib import pyplot as plt"
   ]
  },
  {
   "cell_type": "code",
   "execution_count": 3,
   "id": "1a309f2a-7143-486f-8cfb-a69e117498f2",
   "metadata": {},
   "outputs": [],
   "source": [
    "df = pd.read_csv('https://stepik.org/media/attachments/course/4852/event_data_train.zip')"
   ]
  },
  {
   "cell_type": "code",
   "execution_count": 4,
   "id": "140ec234-b145-4cb2-bf34-a9313712614b",
   "metadata": {},
   "outputs": [
    {
     "data": {
      "text/html": [
       "<div>\n",
       "<style scoped>\n",
       "    .dataframe tbody tr th:only-of-type {\n",
       "        vertical-align: middle;\n",
       "    }\n",
       "\n",
       "    .dataframe tbody tr th {\n",
       "        vertical-align: top;\n",
       "    }\n",
       "\n",
       "    .dataframe thead th {\n",
       "        text-align: right;\n",
       "    }\n",
       "</style>\n",
       "<table border=\"1\" class=\"dataframe\">\n",
       "  <thead>\n",
       "    <tr style=\"text-align: right;\">\n",
       "      <th></th>\n",
       "      <th>step_id</th>\n",
       "      <th>timestamp</th>\n",
       "      <th>action</th>\n",
       "      <th>user_id</th>\n",
       "    </tr>\n",
       "  </thead>\n",
       "  <tbody>\n",
       "    <tr>\n",
       "      <th>0</th>\n",
       "      <td>32815</td>\n",
       "      <td>1434340848</td>\n",
       "      <td>viewed</td>\n",
       "      <td>17632</td>\n",
       "    </tr>\n",
       "    <tr>\n",
       "      <th>1</th>\n",
       "      <td>32815</td>\n",
       "      <td>1434340848</td>\n",
       "      <td>passed</td>\n",
       "      <td>17632</td>\n",
       "    </tr>\n",
       "    <tr>\n",
       "      <th>2</th>\n",
       "      <td>32815</td>\n",
       "      <td>1434340848</td>\n",
       "      <td>discovered</td>\n",
       "      <td>17632</td>\n",
       "    </tr>\n",
       "    <tr>\n",
       "      <th>3</th>\n",
       "      <td>32811</td>\n",
       "      <td>1434340895</td>\n",
       "      <td>discovered</td>\n",
       "      <td>17632</td>\n",
       "    </tr>\n",
       "    <tr>\n",
       "      <th>4</th>\n",
       "      <td>32811</td>\n",
       "      <td>1434340895</td>\n",
       "      <td>viewed</td>\n",
       "      <td>17632</td>\n",
       "    </tr>\n",
       "  </tbody>\n",
       "</table>\n",
       "</div>"
      ],
      "text/plain": [
       "   step_id   timestamp      action  user_id\n",
       "0    32815  1434340848      viewed    17632\n",
       "1    32815  1434340848      passed    17632\n",
       "2    32815  1434340848  discovered    17632\n",
       "3    32811  1434340895  discovered    17632\n",
       "4    32811  1434340895      viewed    17632"
      ]
     },
     "execution_count": 4,
     "metadata": {},
     "output_type": "execute_result"
    }
   ],
   "source": [
    "df.head()"
   ]
  },
  {
   "cell_type": "code",
   "execution_count": 5,
   "id": "4717bcb2-f33d-46c0-9065-40e45863c198",
   "metadata": {},
   "outputs": [
    {
     "data": {
      "text/plain": [
       "step_id       int64\n",
       "timestamp     int64\n",
       "action       object\n",
       "user_id       int64\n",
       "dtype: object"
      ]
     },
     "execution_count": 5,
     "metadata": {},
     "output_type": "execute_result"
    }
   ],
   "source": [
    "df.dtypes"
   ]
  },
  {
   "cell_type": "code",
   "execution_count": 6,
   "id": "16fdb119-541c-4cc3-b2f4-8de7e8141ae3",
   "metadata": {},
   "outputs": [
    {
     "data": {
      "text/plain": [
       "step_id      0\n",
       "timestamp    0\n",
       "action       0\n",
       "user_id      0\n",
       "dtype: int64"
      ]
     },
     "execution_count": 6,
     "metadata": {},
     "output_type": "execute_result"
    }
   ],
   "source": [
    "df.isna().sum()"
   ]
  },
  {
   "cell_type": "code",
   "execution_count": 7,
   "id": "8e5fb4d9-a163-4a23-874e-e13d13786b46",
   "metadata": {},
   "outputs": [
    {
     "data": {
      "text/html": [
       "<div>\n",
       "<style scoped>\n",
       "    .dataframe tbody tr th:only-of-type {\n",
       "        vertical-align: middle;\n",
       "    }\n",
       "\n",
       "    .dataframe tbody tr th {\n",
       "        vertical-align: top;\n",
       "    }\n",
       "\n",
       "    .dataframe thead th {\n",
       "        text-align: right;\n",
       "    }\n",
       "</style>\n",
       "<table border=\"1\" class=\"dataframe\">\n",
       "  <thead>\n",
       "    <tr style=\"text-align: right;\">\n",
       "      <th></th>\n",
       "      <th>step_id</th>\n",
       "      <th>timestamp</th>\n",
       "      <th>user_id</th>\n",
       "    </tr>\n",
       "  </thead>\n",
       "  <tbody>\n",
       "    <tr>\n",
       "      <th>count</th>\n",
       "      <td>3.480703e+06</td>\n",
       "      <td>3.480703e+06</td>\n",
       "      <td>3.480703e+06</td>\n",
       "    </tr>\n",
       "    <tr>\n",
       "      <th>mean</th>\n",
       "      <td>3.487358e+04</td>\n",
       "      <td>1.480288e+09</td>\n",
       "      <td>1.331468e+04</td>\n",
       "    </tr>\n",
       "    <tr>\n",
       "      <th>std</th>\n",
       "      <td>1.422243e+04</td>\n",
       "      <td>3.068906e+07</td>\n",
       "      <td>7.779099e+03</td>\n",
       "    </tr>\n",
       "    <tr>\n",
       "      <th>min</th>\n",
       "      <td>3.045600e+04</td>\n",
       "      <td>1.434341e+09</td>\n",
       "      <td>1.000000e+00</td>\n",
       "    </tr>\n",
       "    <tr>\n",
       "      <th>25%</th>\n",
       "      <td>3.217900e+04</td>\n",
       "      <td>1.450271e+09</td>\n",
       "      <td>6.642000e+03</td>\n",
       "    </tr>\n",
       "    <tr>\n",
       "      <th>50%</th>\n",
       "      <td>3.292900e+04</td>\n",
       "      <td>1.483904e+09</td>\n",
       "      <td>1.320800e+04</td>\n",
       "    </tr>\n",
       "    <tr>\n",
       "      <th>75%</th>\n",
       "      <td>3.348100e+04</td>\n",
       "      <td>1.507889e+09</td>\n",
       "      <td>2.014400e+04</td>\n",
       "    </tr>\n",
       "    <tr>\n",
       "      <th>max</th>\n",
       "      <td>1.584330e+05</td>\n",
       "      <td>1.526773e+09</td>\n",
       "      <td>2.679800e+04</td>\n",
       "    </tr>\n",
       "  </tbody>\n",
       "</table>\n",
       "</div>"
      ],
      "text/plain": [
       "            step_id     timestamp       user_id\n",
       "count  3.480703e+06  3.480703e+06  3.480703e+06\n",
       "mean   3.487358e+04  1.480288e+09  1.331468e+04\n",
       "std    1.422243e+04  3.068906e+07  7.779099e+03\n",
       "min    3.045600e+04  1.434341e+09  1.000000e+00\n",
       "25%    3.217900e+04  1.450271e+09  6.642000e+03\n",
       "50%    3.292900e+04  1.483904e+09  1.320800e+04\n",
       "75%    3.348100e+04  1.507889e+09  2.014400e+04\n",
       "max    1.584330e+05  1.526773e+09  2.679800e+04"
      ]
     },
     "execution_count": 7,
     "metadata": {},
     "output_type": "execute_result"
    }
   ],
   "source": [
    "df.describe()"
   ]
  },
  {
   "cell_type": "code",
   "execution_count": 8,
   "id": "0ad24220-a226-4dde-a23d-afa7071902ed",
   "metadata": {},
   "outputs": [
    {
     "data": {
      "text/plain": [
       "array(['viewed', 'passed', 'discovered', 'started_attempt'], dtype=object)"
      ]
     },
     "execution_count": 8,
     "metadata": {},
     "output_type": "execute_result"
    }
   ],
   "source": [
    "df.action.unique()"
   ]
  },
  {
   "cell_type": "code",
   "execution_count": 9,
   "id": "84ef8494-81b4-4d4b-bdef-db8acbe801db",
   "metadata": {},
   "outputs": [],
   "source": [
    "df['Datetime'] = pd.to_datetime(df.timestamp, unit='s')"
   ]
  },
  {
   "cell_type": "code",
   "execution_count": 10,
   "id": "b20873c6-3509-4720-a2bd-4d09abcbd51e",
   "metadata": {},
   "outputs": [
    {
     "name": "stdout",
     "output_type": "stream",
     "text": [
      "2015-06-15 04:00:48 2018-05-19 23:33:31\n"
     ]
    }
   ],
   "source": [
    "print(df.Datetime.min(), df.Datetime.max())"
   ]
  },
  {
   "cell_type": "code",
   "execution_count": 11,
   "id": "2087f8e2-d795-44b4-a4ff-55d857d0e393",
   "metadata": {},
   "outputs": [],
   "source": [
    "df['Day'] = df.Datetime.dt.date"
   ]
  },
  {
   "cell_type": "code",
   "execution_count": 12,
   "id": "da966c9a-539e-4ac4-acef-26360beb457c",
   "metadata": {},
   "outputs": [],
   "source": [
    "uniq_by_date = df.groupby('Day').user_id.nunique().reset_index()"
   ]
  },
  {
   "cell_type": "code",
   "execution_count": 13,
   "id": "6def6e2f-1142-4766-b21f-9cc9e86f70fd",
   "metadata": {},
   "outputs": [
    {
     "data": {
      "text/plain": [
       "<Axes: xlabel='Day', ylabel='user_id'>"
      ]
     },
     "execution_count": 13,
     "metadata": {},
     "output_type": "execute_result"
    },
    {
     "data": {
      "image/png": "[encoded data removed]",
      "text/plain": [
       "<Figure size 640x480 with 1 Axes>"
      ]
     },
     "metadata": {},
     "output_type": "display_data"
    }
   ],
   "source": [
    "sns.lineplot(uniq_by_date, x='Day', y='user_id')"
   ]
  },
  {
   "cell_type": "code",
   "execution_count": 14,
   "id": "f92b8a77-e241-4a59-b66c-528875e301c6",
   "metadata": {},
   "outputs": [
    {
     "data": {
      "text/plain": [
       "<Axes: >"
      ]
     },
     "execution_count": 14,
     "metadata": {},
     "output_type": "execute_result"
    },
    {
     "data": {
      "image/png": "[encoded data removed]",
      "text/plain": [
       "<Figure size 640x480 with 1 Axes>"
      ]
     },
     "metadata": {},
     "output_type": "display_data"
    }
   ],
   "source": [
    "df.pivot_table(index='user_id', columns='action', values='step_id', aggfunc='count', fill_value=0).reset_index().passed.hist()"
   ]
  },
  {
   "cell_type": "code",
   "execution_count": 15,
   "id": "7e5ce261-d1bc-476e-9bfe-1691df83ed2a",
   "metadata": {},
   "outputs": [],
   "source": [
    "user_events = df.pivot_table(index='user_id', columns='action', values='step_id', aggfunc='count', fill_value=0).reset_index()"
   ]
  },
  {
   "cell_type": "code",
   "execution_count": 16,
   "id": "ddb0f50e-3427-4b93-b3b5-8fc6f9b64378",
   "metadata": {},
   "outputs": [],
   "source": [
    "sub_df = pd.read_csv('https://stepik.org/media/attachments/course/4852/submissions_data_train.zip')"
   ]
  },
  {
   "cell_type": "code",
   "execution_count": 17,
   "id": "8d05c6da-ebc0-47a0-be8a-6c15036977b8",
   "metadata": {},
   "outputs": [
    {
     "data": {
      "text/plain": [
       "step_id              0\n",
       "timestamp            0\n",
       "submission_status    0\n",
       "user_id              0\n",
       "dtype: int64"
      ]
     },
     "execution_count": 17,
     "metadata": {},
     "output_type": "execute_result"
    }
   ],
   "source": [
    "sub_df.isna().sum()"
   ]
  },
  {
   "cell_type": "code",
   "execution_count": 18,
   "id": "187ca708-b2d1-466b-bfdf-062f45e72c23",
   "metadata": {},
   "outputs": [],
   "source": [
    "sub_df['Datetime'] = pd.to_datetime(sub_df.timestamp, unit='s')"
   ]
  },
  {
   "cell_type": "code",
   "execution_count": 19,
   "id": "85ba73a2-96e1-4019-9230-ebf7f1baa22f",
   "metadata": {},
   "outputs": [],
   "source": [
    "sub_df['Date'] = sub_df.Datetime.dt.date"
   ]
  },
  {
   "cell_type": "code",
   "execution_count": 20,
   "id": "6e8e4a54-3baa-4e82-8777-ba45e025a495",
   "metadata": {},
   "outputs": [],
   "source": [
    "users_subs = sub_df.pivot_table(index='user_id', columns='submission_status', values='step_id', aggfunc='count', fill_value=0).reset_index().sort_values('correct', ascending=False)"
   ]
  },
  {
   "cell_type": "code",
   "execution_count": 21,
   "id": "619cb3ef-826f-43cb-a7b7-7a4b449c1e95",
   "metadata": {},
   "outputs": [],
   "source": [
    "gaps_data = df[['user_id', 'timestamp', 'Day']].drop_duplicates(subset=['Day']).groupby('user_id')['timestamp'].apply(list) \\\n",
    "    .apply(np.diff).values"
   ]
  },
  {
   "cell_type": "code",
   "execution_count": 22,
   "id": "e2945a86-0f99-4f32-9f7f-624a8d13c7e5",
   "metadata": {},
   "outputs": [],
   "source": [
    "gaps_data = pd.Series(np.concatenate(gaps_data, axis=0))"
   ]
  },
  {
   "cell_type": "code",
   "execution_count": 23,
   "id": "476df5ca-21a3-4689-a66b-be680effa550",
   "metadata": {},
   "outputs": [
    {
     "data": {
      "text/plain": [
       "np.float64(15.203456018518562)"
      ]
     },
     "execution_count": 23,
     "metadata": {},
     "output_type": "execute_result"
    }
   ],
   "source": [
    "gaps_data.quantile(0.90) / (24*60*60)"
   ]
  },
  {
   "cell_type": "code",
   "execution_count": 24,
   "id": "8b35b889-4578-4748-9e98-d37853be71c0",
   "metadata": {},
   "outputs": [],
   "source": [
    "users = df.groupby('user_id').agg({'timestamp':'max'}).reset_index()"
   ]
  },
  {
   "cell_type": "code",
   "execution_count": 25,
   "id": "28224929-268a-4224-adcf-32084d971e5d",
   "metadata": {},
   "outputs": [],
   "source": [
    "users = users.merge(users_subs, on=['user_id'], how='left')\n",
    "users.fillna(0, inplace=True)"
   ]
  },
  {
   "cell_type": "code",
   "execution_count": 26,
   "id": "fc747470-f269-41de-a2d7-a016698e295d",
   "metadata": {},
   "outputs": [],
   "source": [
    "users = users.merge(user_events, on='user_id', how='left')\n",
    "users.fillna(0, inplace=True)"
   ]
  },
  {
   "cell_type": "code",
   "execution_count": 27,
   "id": "61798150-b584-4a1d-bfd3-d75e97f11197",
   "metadata": {},
   "outputs": [],
   "source": [
    "uniq_days = df.groupby('user_id').agg({'Day':'nunique'}).reset_index().rename(columns={'Day':'days_unique'})"
   ]
  },
  {
   "cell_type": "code",
   "execution_count": 28,
   "id": "45505614-6a63-4313-a0e5-d93b660745f5",
   "metadata": {},
   "outputs": [],
   "source": [
    "users = users.merge(uniq_days, on='user_id', how='left')\n",
    "users.fillna(0, inplace=True)"
   ]
  },
  {
   "cell_type": "code",
   "execution_count": 29,
   "id": "d74f884d-5678-460f-8845-1c71d464e498",
   "metadata": {},
   "outputs": [],
   "source": [
    "users['churned'] = np.where(((1526772811 - users.timestamp) > 24*60*60*30) & (users.passed < 170), 1, 0)"
   ]
  },
  {
   "cell_type": "code",
   "execution_count": 30,
   "id": "2ed9ada8-d516-4a50-9db6-7c488d861006",
   "metadata": {},
   "outputs": [],
   "source": [
    "users['finished_course'] = np.where(users.passed > 170, 1,0)"
   ]
  },
  {
   "cell_type": "code",
   "execution_count": 33,
   "id": "9d33ecdd-b530-4ed2-a86b-f4daedacd8f3",
   "metadata": {},
   "outputs": [
    {
     "data": {
      "text/plain": [
       "np.float64(20.0)"
      ]
     },
     "execution_count": 33,
     "metadata": {},
     "output_type": "execute_result"
    }
   ],
   "source": [
    "#сколько в среднем дней потребовалось пользователям, которые прошли курс\n",
    "\n",
    "users[users.finished_course == 1].days_unique.median()"
   ]
  },
  {
   "cell_type": "code",
   "execution_count": 36,
   "id": "56ee6955-19cf-47fe-8431-f322d71319ff",
   "metadata": {},
   "outputs": [
    {
     "data": {
      "text/plain": [
       "<Axes: >"
      ]
     },
     "execution_count": 36,
     "metadata": {},
     "output_type": "execute_result"
    },
    {
     "data": {
      "image/png": "[encoded data removed]",
      "text/plain": [
       "<Figure size 640x480 with 1 Axes>"
      ]
     },
     "metadata": {},
     "output_type": "display_data"
    }
   ],
   "source": [
    "users[users.finished_course == 1].days_unique.hist()"
   ]
  },
  {
   "cell_type": "code",
   "execution_count": 37,
   "id": "35099979-6f5a-4d89-b986-c22c24328845",
   "metadata": {},
   "outputs": [],
   "source": [
    "#отбираем события, которые произошли от времени регистрации пользователя + 3 дня"
   ]
  },
  {
   "cell_type": "code",
   "execution_count": 53,
   "id": "2083f7db-6736-4bb8-b3a5-779047373f47",
   "metadata": {},
   "outputs": [],
   "source": [
    "df_min = df.merge(df.groupby('user_id').agg({'timestamp':'min'}).rename(columns={'timestamp':'min_timestamp'}).reset_index(), on='user_id', how='left')"
   ]
  },
  {
   "cell_type": "code",
   "execution_count": 54,
   "id": "e02c6af1-6204-4318-a3c3-0879587dae9e",
   "metadata": {},
   "outputs": [],
   "source": [
    "threshold = 3*24*60*60"
   ]
  },
  {
   "cell_type": "code",
   "execution_count": 67,
   "id": "760348fe-1cf5-45b3-8d4c-d28dcb135bd2",
   "metadata": {},
   "outputs": [],
   "source": [
    "events_train = df_min[df_min.timestamp < df_min.min_timestamp + threshold]"
   ]
  },
  {
   "cell_type": "code",
   "execution_count": 58,
   "id": "ed713f31-4fc8-4b17-ae15-f8b9b99ad35c",
   "metadata": {},
   "outputs": [],
   "source": [
    "#найдем степы, на которых пользователи отваливались\n",
    "df_max = sub_df.merge(sub_df.groupby('user_id').agg({'timestamp':'max'}).rename(columns={'timestamp':'max_timestamp'}).reset_index(), on='user_id', how='left')"
   ]
  },
  {
   "cell_type": "code",
   "execution_count": 66,
   "id": "7cbcc8fe-566f-47a1-ac13-0309494e199c",
   "metadata": {},
   "outputs": [
    {
     "data": {
      "text/html": [
       "<div>\n",
       "<style scoped>\n",
       "    .dataframe tbody tr th:only-of-type {\n",
       "        vertical-align: middle;\n",
       "    }\n",
       "\n",
       "    .dataframe tbody tr th {\n",
       "        vertical-align: top;\n",
       "    }\n",
       "\n",
       "    .dataframe thead th {\n",
       "        text-align: right;\n",
       "    }\n",
       "</style>\n",
       "<table border=\"1\" class=\"dataframe\">\n",
       "  <thead>\n",
       "    <tr style=\"text-align: right;\">\n",
       "      <th></th>\n",
       "      <th>step_id</th>\n",
       "      <th>user_id</th>\n",
       "    </tr>\n",
       "  </thead>\n",
       "  <tbody>\n",
       "    <tr>\n",
       "      <th>4</th>\n",
       "      <td>31978</td>\n",
       "      <td>154</td>\n",
       "    </tr>\n",
       "    <tr>\n",
       "      <th>28</th>\n",
       "      <td>32812</td>\n",
       "      <td>133</td>\n",
       "    </tr>\n",
       "    <tr>\n",
       "      <th>11</th>\n",
       "      <td>32031</td>\n",
       "      <td>97</td>\n",
       "    </tr>\n",
       "    <tr>\n",
       "      <th>19</th>\n",
       "      <td>32202</td>\n",
       "      <td>92</td>\n",
       "    </tr>\n",
       "    <tr>\n",
       "      <th>42</th>\n",
       "      <td>33481</td>\n",
       "      <td>78</td>\n",
       "    </tr>\n",
       "    <tr>\n",
       "      <th>...</th>\n",
       "      <td>...</td>\n",
       "      <td>...</td>\n",
       "    </tr>\n",
       "    <tr>\n",
       "      <th>43</th>\n",
       "      <td>33482</td>\n",
       "      <td>1</td>\n",
       "    </tr>\n",
       "    <tr>\n",
       "      <th>59</th>\n",
       "      <td>33686</td>\n",
       "      <td>1</td>\n",
       "    </tr>\n",
       "    <tr>\n",
       "      <th>57</th>\n",
       "      <td>33684</td>\n",
       "      <td>1</td>\n",
       "    </tr>\n",
       "    <tr>\n",
       "      <th>55</th>\n",
       "      <td>33676</td>\n",
       "      <td>1</td>\n",
       "    </tr>\n",
       "    <tr>\n",
       "      <th>9</th>\n",
       "      <td>31988</td>\n",
       "      <td>1</td>\n",
       "    </tr>\n",
       "  </tbody>\n",
       "</table>\n",
       "<p>72 rows × 2 columns</p>\n",
       "</div>"
      ],
      "text/plain": [
       "    step_id  user_id\n",
       "4     31978      154\n",
       "28    32812      133\n",
       "11    32031       97\n",
       "19    32202       92\n",
       "42    33481       78\n",
       "..      ...      ...\n",
       "43    33482        1\n",
       "59    33686        1\n",
       "57    33684        1\n",
       "55    33676        1\n",
       "9     31988        1\n",
       "\n",
       "[72 rows x 2 columns]"
      ]
     },
     "execution_count": 66,
     "metadata": {},
     "output_type": "execute_result"
    }
   ],
   "source": [
    "df_max[(df_max.timestamp == df_max.max_timestamp) & (df_max.submission_status == 'wrong')].groupby('step_id') \\\n",
    "    .agg({'user_id':'count'}).reset_index().sort_values('user_id', ascending=False)"
   ]
  },
  {
   "cell_type": "code",
   "execution_count": 73,
   "id": "42571867-69be-41b3-82f9-9d5bde0661e6",
   "metadata": {},
   "outputs": [
    {
     "data": {
      "text/plain": [
       "np.int64(4)"
      ]
     },
     "execution_count": 73,
     "metadata": {},
     "output_type": "execute_result"
    }
   ],
   "source": [
    "# проверяем корректность. 4 дня ок – так как пользователь первое событие мог начать в середине дня\n",
    "events_train.groupby('user_id').Day.nunique().max()"
   ]
  },
  {
   "cell_type": "code",
   "execution_count": 74,
   "id": "8b98b294-b733-4250-b2ed-9dd7635e74fe",
   "metadata": {},
   "outputs": [],
   "source": [
    "sub_train =  sub_df.merge(sub_df.groupby('user_id').agg({'timestamp':'min'}).rename(columns={'timestamp':'min_timestamp'}).reset_index(), on='user_id', how='left')"
   ]
  },
  {
   "cell_type": "code",
   "execution_count": 76,
   "id": "aaed98b3-af60-470c-8d73-993af633891c",
   "metadata": {},
   "outputs": [],
   "source": [
    "sub_train = sub_train[sub_train.timestamp < sub_train.min_timestamp + threshold]"
   ]
  },
  {
   "cell_type": "code",
   "execution_count": 81,
   "id": "798001a0-b848-4ba6-a8b9-848ee02618cd",
   "metadata": {},
   "outputs": [
    {
     "data": {
      "text/plain": [
       "np.int64(4)"
      ]
     },
     "execution_count": 81,
     "metadata": {},
     "output_type": "execute_result"
    }
   ],
   "source": [
    "#аналогично проверяем\n",
    "sub_train.groupby('user_id').Date.nunique().max()"
   ]
  },
  {
   "cell_type": "code",
   "execution_count": 166,
   "id": "7865c46b-dbf7-49a8-a6fe-f926f3b8506b",
   "metadata": {},
   "outputs": [],
   "source": [
    "# Подготовим датафрейм для обучения\n",
    "X = sub_train.groupby('user_id').Date.nunique().to_frame().reset_index()"
   ]
  },
  {
   "cell_type": "code",
   "execution_count": 167,
   "id": "ba5f7727-973c-4894-bbcb-a8222f4da2db",
   "metadata": {},
   "outputs": [],
   "source": [
    "steps_tried = sub_train.groupby('user_id').step_id.nunique().to_frame().reset_index().rename(columns={'step_id':'steps_tried'})"
   ]
  },
  {
   "cell_type": "code",
   "execution_count": 168,
   "id": "7ffb35c0-0c83-4598-bbe6-5546be8f36fa",
   "metadata": {},
   "outputs": [],
   "source": [
    "X = X.merge(steps_tried, on = 'user_id', how='left')"
   ]
  },
  {
   "cell_type": "code",
   "execution_count": 169,
   "id": "a556a856-61a3-439b-b9e2-5e86663f7e2c",
   "metadata": {},
   "outputs": [],
   "source": [
    "users_subs = sub_train.pivot_table(index='user_id', \n",
    "                                    columns='submission_status', \n",
    "                                    values='step_id', aggfunc='count', \n",
    "                                    fill_value=0) \\\n",
    "    .reset_index()"
   ]
  },
  {
   "cell_type": "code",
   "execution_count": 170,
   "id": "c37f6327-4e73-4370-a281-0d5c1d8e9808",
   "metadata": {},
   "outputs": [],
   "source": [
    "X = X.merge(users_subs, on = 'user_id', how='left')"
   ]
  },
  {
   "cell_type": "code",
   "execution_count": 171,
   "id": "28958072-658d-44bc-b48c-e92008f229ee",
   "metadata": {},
   "outputs": [],
   "source": [
    "X['correct_ratio'] = X.correct / (X.correct+ X.wrong)"
   ]
  },
  {
   "cell_type": "code",
   "execution_count": 172,
   "id": "38fe29a6-2e6c-40cc-9b1b-aa3e2b625211",
   "metadata": {},
   "outputs": [],
   "source": [
    "X = X.merge(events_train.pivot_table(index='user_id', \n",
    "                           columns='action', \n",
    "                           values='step_id', \n",
    "                           aggfunc='count', fill_value=0) \\\n",
    "                            .reset_index()[['user_id','viewed']], \n",
    "            on='user_id', how='outer')"
   ]
  },
  {
   "cell_type": "code",
   "execution_count": 173,
   "id": "f0752777-3486-4c6b-9a39-2789252f0e9d",
   "metadata": {},
   "outputs": [],
   "source": [
    "X.fillna(0, inplace=True)"
   ]
  },
  {
   "cell_type": "code",
   "execution_count": 174,
   "id": "b1f17fd8-8b5c-4914-8973-8c85c8eb38e7",
   "metadata": {},
   "outputs": [],
   "source": [
    "X = X.merge(users[['user_id','finished_course','churned']], on='user_id', how='outer', )"
   ]
  },
  {
   "cell_type": "code",
   "execution_count": 175,
   "id": "f02a20fa-b04d-41fd-b181-261fa1aa9773",
   "metadata": {},
   "outputs": [],
   "source": [
    "X = X[~((X.churned == 0) & (X.finished_course == 0))]"
   ]
  },
  {
   "cell_type": "code",
   "execution_count": 176,
   "id": "4a26f43d-5075-4403-af17-11b5f1f0f360",
   "metadata": {},
   "outputs": [],
   "source": [
    "y = X.finished_course"
   ]
  },
  {
   "cell_type": "code",
   "execution_count": 177,
   "id": "2c059b2b-ce75-4c42-b27c-9d94cac6c8f5",
   "metadata": {},
   "outputs": [],
   "source": [
    "X = X.drop(columns=['finished_course','churned'])"
   ]
  },
  {
   "cell_type": "code",
   "execution_count": 180,
   "id": "1ca40e1c-fd5e-4773-835e-72c182dda7c4",
   "metadata": {},
   "outputs": [],
   "source": [
    "X = X.set_index(X.user_id)\n",
    "X = X.drop('user_id', axis=1)"
   ]
  },
  {
   "cell_type": "code",
   "execution_count": null,
   "id": "b4e15902-f0ce-48a2-a61a-2d376ec8ae68",
   "metadata": {},
   "outputs": [],
   "source": []
  }
 ],
 "metadata": {
  "kernelspec": {
   "display_name": "Python 3 (ipykernel)",
   "language": "python",
   "name": "python3"
  },
  "language_info": {
   "codemirror_mode": {
    "name": "ipython",
    "version": 3
   },
   "file_extension": ".py",
   "mimetype": "text/x-python",
   "name": "python",
   "nbconvert_exporter": "python",
   "pygments_lexer": "ipython3",
   "version": "3.12.4"
  }
 },
 "nbformat": 4,
 "nbformat_minor": 5
}
