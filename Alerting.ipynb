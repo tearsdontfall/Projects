{
 "cells": [
  {
   "cell_type": "code",
   "execution_count": 128,
   "id": "eada60b7-6764-4b18-94fe-76f48b0623e6",
   "metadata": {},
   "outputs": [],
   "source": [
    "import pandas as pd\n",
    "import numpy as np\n",
    "import seaborn as sns\n",
    "from sklearn.preprocessing import StandardScaler\n",
    "from scipy.stats import normaltest"
   ]
  },
  {
   "cell_type": "code",
   "execution_count": 42,
   "id": "f41d9d99-f3e0-4b8c-b964-c94e7925f8e2",
   "metadata": {},
   "outputs": [],
   "source": [
    "df = pd.read_csv('Documents/Datasets/alerting.csv')"
   ]
  },
  {
   "cell_type": "code",
   "execution_count": 43,
   "id": "5a6a253f-bd15-4362-b085-f3bc07394baf",
   "metadata": {},
   "outputs": [],
   "source": [
    "df = df.fillna(0)"
   ]
  },
  {
   "cell_type": "code",
   "execution_count": 105,
   "id": "333fbd80-d723-4a29-929d-840225b2fe36",
   "metadata": {},
   "outputs": [],
   "source": [
    "def metrics(df: pd.DataFrame) -> pd.DataFrame:\n",
    "    df['CPM'] = (df.spend_usd / df.impressions * 1000).round(2)\n",
    "    df['CPC'] = (df.spend_usd / df.clicks).round(2)\n",
    "    df['CPI'] = (df.spend_usd / df.installs).round(2)\n",
    "    df.replace([np.inf, -np.inf], 0, inplace=True)\n",
    "    return df"
   ]
  },
  {
   "cell_type": "code",
   "execution_count": 107,
   "id": "e2733332-b066-4bab-be36-71d87b70e8e9",
   "metadata": {},
   "outputs": [],
   "source": [
    "data = df.groupby(['business_dt', 'offer', 'network']) \\\n",
    "    .agg({'spend_usd':'sum','impressions':'sum','clicks':'sum','installs':'sum'}).reset_index()"
   ]
  },
  {
   "cell_type": "code",
   "execution_count": 108,
   "id": "2ebf0b02-83c4-4be8-b0f0-f52c4741d037",
   "metadata": {},
   "outputs": [],
   "source": [
    "data = metrics(data)"
   ]
  },
  {
   "cell_type": "code",
   "execution_count": 109,
   "id": "b6efb913-d4e3-403d-b3e7-63d5eb0ddbc2",
   "metadata": {},
   "outputs": [],
   "source": [
    "data = data.fillna(0)"
   ]
  },
  {
   "cell_type": "code",
   "execution_count": 110,
   "id": "3d8e0bb9-6fdb-4aa8-8317-fe479fd11301",
   "metadata": {},
   "outputs": [],
   "source": [
    "data_vkads = data[data.network == 'VKADS']"
   ]
  },
  {
   "cell_type": "code",
   "execution_count": 101,
   "id": "c45fedca-dbde-4b5d-9204-78bd629bc365",
   "metadata": {},
   "outputs": [],
   "source": [
    "scaler = StandardScaler()"
   ]
  },
  {
   "cell_type": "code",
   "execution_count": 125,
   "id": "671b4992-2b1f-4d88-b08d-d3cad429d660",
   "metadata": {},
   "outputs": [],
   "source": [
    "plt_vk = data_vkads[data_vkads.CPM > 0]"
   ]
  },
  {
   "cell_type": "code",
   "execution_count": 127,
   "id": "46ec867d-1a85-4364-87bd-0fe027883eeb",
   "metadata": {},
   "outputs": [
    {
     "data": {
      "text/plain": [
       "<seaborn.axisgrid.FacetGrid at 0x11f22cbf0>"
      ]
     },
     "execution_count": 127,
     "metadata": {},
     "output_type": "execute_result"
    },
    {
     "data": {
      "image/png": "[encoded data removed]",
      "text/plain": [
       "<Figure size 500x500 with 1 Axes>"
      ]
     },
     "metadata": {},
     "output_type": "display_data"
    }
   ],
   "source": [
    "sns.displot(np.log(plt_vk.CPM))"
   ]
  },
  {
   "cell_type": "code",
   "execution_count": 131,
   "id": "8eb03e4c-7800-4b6c-9727-a92f3f8ddea9",
   "metadata": {},
   "outputs": [
    {
     "data": {
      "text/plain": [
       "np.float64(1.6845846153846153)"
      ]
     },
     "execution_count": 131,
     "metadata": {},
     "output_type": "execute_result"
    }
   ],
   "source": [
    "plt_vk[plt_vk.business_dt < '2024-09-10'].CPM.mean()"
   ]
  },
  {
   "cell_type": "code",
   "execution_count": 138,
   "id": "40357b9f-50fe-4cf8-8fdd-190f7d4420fb",
   "metadata": {},
   "outputs": [
    {
     "data": {
      "text/plain": [
       "np.float64(1.6494444444444445)"
      ]
     },
     "execution_count": 138,
     "metadata": {},
     "output_type": "execute_result"
    }
   ],
   "source": [
    "plt_vk[plt_vk.business_dt < '2024-09-'].CPM.mean()"
   ]
  },
  {
   "cell_type": "code",
   "execution_count": null,
   "id": "60a400de-dd30-4c26-b195-c70de3bd2d95",
   "metadata": {},
   "outputs": [],
   "source": []
  }
 ],
 "metadata": {
  "kernelspec": {
   "display_name": "Python 3 (ipykernel)",
   "language": "python",
   "name": "python3"
  },
  "language_info": {
   "codemirror_mode": {
    "name": "ipython",
    "version": 3
   },
   "file_extension": ".py",
   "mimetype": "text/x-python",
   "name": "python",
   "nbconvert_exporter": "python",
   "pygments_lexer": "ipython3",
   "version": "3.12.4"
  }
 },
 "nbformat": 4,
 "nbformat_minor": 5
}
